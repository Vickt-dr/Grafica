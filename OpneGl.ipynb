{
  "nbformat": 4,
  "nbformat_minor": 0,
  "metadata": {
    "colab": {
      "provenance": [],
      "authorship_tag": "ABX9TyMCucwGCuESRsJMcIHjYZh+",
      "include_colab_link": true
    },
    "kernelspec": {
      "name": "python3",
      "display_name": "Python 3"
    },
    "language_info": {
      "name": "python"
    }
  },
  "cells": [
    {
      "cell_type": "markdown",
      "metadata": {
        "id": "view-in-github",
        "colab_type": "text"
      },
      "source": [
        "<a href=\"https://colab.research.google.com/github/Vickt-dr/Grafica/blob/main/OpneGl.ipynb\" target=\"_parent\"><img src=\"https://colab.research.google.com/assets/colab-badge.svg\" alt=\"Open In Colab\"/></a>"
      ]
    },
    {
      "cell_type": "markdown",
      "source": [
        "# **Atividade de Computação Gráfica: Casa com OpenGL no Colab**\n",
        "Aluna: Victoria Ferreira de Carvalho\n",
        "\n",
        "-------"
      ],
      "metadata": {
        "id": "LtFWfNBuNg6-"
      }
    },
    {
      "cell_type": "code",
      "source": [
        "!apt-get install -y xvfb freeglut3-dev\n",
        "!pip install pyopengl pyvirtualdisplay pillow\n"
      ],
      "metadata": {
        "colab": {
          "base_uri": "https://localhost:8080/"
        },
        "collapsed": true,
        "id": "3BIqCjPGMcRQ",
        "outputId": "f9b1a228-be1b-4017-81fc-1d913990b6cf"
      },
      "execution_count": null,
      "outputs": [
        {
          "output_type": "stream",
          "name": "stdout",
          "text": [
            "Reading package lists... Done\n",
            "Building dependency tree... Done\n",
            "Reading state information... Done\n",
            "freeglut3-dev is already the newest version (2.8.1-6).\n",
            "xvfb is already the newest version (2:21.1.4-2ubuntu1.7~22.04.15).\n",
            "0 upgraded, 0 newly installed, 0 to remove and 35 not upgraded.\n",
            "Requirement already satisfied: pyopengl in /usr/local/lib/python3.12/dist-packages (3.1.10)\n",
            "Requirement already satisfied: pyvirtualdisplay in /usr/local/lib/python3.12/dist-packages (3.0)\n",
            "Requirement already satisfied: pillow in /usr/local/lib/python3.12/dist-packages (11.3.0)\n"
          ]
        }
      ]
    },
    {
      "cell_type": "code",
      "execution_count": null,
      "metadata": {
        "colab": {
          "base_uri": "https://localhost:8080/",
          "height": 435
        },
        "id": "tjv2agmJMYEY",
        "outputId": "b5eaab37-fb3d-4f46-f8e2-1cd93e6e9317"
      },
      "outputs": [
        {
          "output_type": "stream",
          "name": "stdout",
          "text": [
            "Imagem renderizada com OpenGL:\n"
          ]
        },
        {
          "output_type": "execute_result",
          "data": {
            "text/plain": [
              "<PIL.Image.Image image mode=RGB size=400x400>"
            ],
            "image/png": "[encoded data removed]",
            "image/jpeg": "[encoded data removed]"
          },
          "metadata": {},
          "execution_count": 6
        }
      ],
      "source": [
        "import os\n",
        "from OpenGL.GL import *\n",
        "from OpenGL.GLUT import *\n",
        "from OpenGL.GLU import *\n",
        "from pyvirtualdisplay import Display\n",
        "from PIL import Image\n",
        "\n",
        "display = Display(visible=0, size=(800, 600))\n",
        "display.start()\n",
        "\n",
        "os.environ[\"DISPLAY\"] = f\":{display.display}\"\n",
        "\n",
        "def desenhar_casa():\n",
        "    glClear(GL_COLOR_BUFFER_BIT)\n",
        "    glLoadIdentity()\n",
        "\n",
        "    # parede\n",
        "    glColor3f(1.0, 0.0, 0.0) # vermelho\n",
        "    glBegin(GL_QUADS)\n",
        "    glVertex2f(-0.5, -0.5)\n",
        "    glVertex2f(0.5, -0.5)\n",
        "    glVertex2f(0.5, 0.5)\n",
        "    glVertex2f(-0.5, 0.5)\n",
        "    glEnd()\n",
        "\n",
        "    # telhado\n",
        "    glColor3f(0.0, 1.0, 0.0) # verde\n",
        "    glBegin(GL_TRIANGLES)\n",
        "    glVertex2f(-0.6, 0.5)\n",
        "    glVertex2f(0.6, 0.5)\n",
        "    glVertex2f(0.0, 0.8)\n",
        "    glEnd()\n",
        "\n",
        "    # porta\n",
        "    glColor3f(0.0, 0.0, 1.0) # azul\n",
        "    glBegin(GL_QUADS)\n",
        "    glVertex2f(-0.15, -0.5)\n",
        "    glVertex2f(0.15, -0.5)\n",
        "    glVertex2f(0.15, 0.1)\n",
        "    glVertex2f(-0.15, 0.1)\n",
        "    glEnd()\n",
        "\n",
        "    # janela\n",
        "    glColor3f(1.0, 1.0, 0.0) # amarelo\n",
        "    glBegin(GL_QUADS)\n",
        "    glVertex2f(-0.4, 0.2)\n",
        "    glVertex2f(-0.2, 0.2)\n",
        "    glVertex2f(-0.2, 0.4)\n",
        "    glVertex2f(-0.4, 0.4)\n",
        "    glEnd()\n",
        "\n",
        "    glFlush()\n",
        "\n",
        "width, height = 400, 400\n",
        "\n",
        "glutInit()\n",
        "glutInitDisplayMode(GLUT_SINGLE | GLUT_RGB)\n",
        "glutInitWindowSize(width, height)\n",
        "glutCreateWindow(\"Casa OpenGL no Colab\")\n",
        "\n",
        "glClearColor(0.8, 0.8, 1.0, 1.0) # cor de fundo azul claro\n",
        "glMatrixMode(GL_PROJECTION)\n",
        "glLoadIdentity()\n",
        "gluOrtho2D(-1.0, 1.0, -1.0, 1.0)\n",
        "glMatrixMode(GL_MODELVIEW)\n",
        "\n",
        "desenhar_casa()\n",
        "\n",
        "glReadBuffer(GL_FRONT)\n",
        "pixels = glReadPixels(0, 0, width, height, GL_RGB, GL_UNSIGNED_BYTE)\n",
        "\n",
        "imagem = Image.frombytes(\"RGB\", (width, height), pixels)\n",
        "imagem = imagem.transpose(Image.FLIP_TOP_BOTTOM)\n",
        "\n",
        "display.stop()\n",
        "print(\"Imagem renderizada com OpenGL:\")\n",
        "imagem"
      ]
    }
  ]
}